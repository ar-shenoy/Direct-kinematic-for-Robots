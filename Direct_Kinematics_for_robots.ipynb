{
  "nbformat": 4,
  "nbformat_minor": 0,
  "metadata": {
    "colab": {
      "provenance": []
    },
    "kernelspec": {
      "name": "python3",
      "display_name": "Python 3"
    },
    "language_info": {
      "name": "python"
    }
  },
  "cells": [
    {
      "cell_type": "markdown",
      "source": [
        "# **Direct Kinematics**"
      ],
      "metadata": {
        "id": "iPjqtwvcC9-I"
      }
    },
    {
      "cell_type": "code",
      "source": [
        "import numpy as np\n",
        "import pandas as pd"
      ],
      "metadata": {
        "id": "sYMRfdlFC9W3"
      },
      "execution_count": 1,
      "outputs": []
    },
    {
      "cell_type": "code",
      "source": [
        "n=int(input(\"Enter the no of joint's: \"))\n",
        "\n",
        "theta = []\n",
        "d = []\n",
        "a = []\n",
        "alpha = []\n",
        "\n",
        "for i in range(n):\n",
        "  theta.append(float(input(f\"\\nEnter the theta value joint{i+1}: \")))\n",
        "  d.append(float(input(f\"\\nEnter the d value joint{i+1}: \")))\n",
        "  a.append(float(input(f\"\\nEnter the a value joint{i+1}: \")))\n",
        "  alpha.append(float(input(f\"\\nEnter the alpha value joint{i+1}: \")))\n",
        "\n",
        "data = {\n",
        "    'Theta': theta,\n",
        "    'd': d,\n",
        "    'a': a,\n",
        "    'Alpha': alpha\n",
        "}\n",
        "\n",
        "df = pd.DataFrame(data)\n",
        "print(f\"\\n{df}\")"
      ],
      "metadata": {
        "colab": {
          "base_uri": "https://localhost:8080/"
        },
        "outputId": "6687574c-290e-4064-c248-9d03acc30f56",
        "id": "Xd-GKqj2C9-J"
      },
      "execution_count": 2,
      "outputs": [
        {
          "output_type": "stream",
          "name": "stdout",
          "text": [
            "Enter the no of joint's: 3\n",
            "\n",
            "Enter the theta value joint1: 0\n",
            "\n",
            "Enter the d value joint1: 50\n",
            "\n",
            "Enter the a value joint1: 0\n",
            "\n",
            "Enter the alpha value joint1: 90\n",
            "\n",
            "Enter the theta value joint2: 0\n",
            "\n",
            "Enter the d value joint2: 0\n",
            "\n",
            "Enter the a value joint2: 100\n",
            "\n",
            "Enter the alpha value joint2: 0\n",
            "\n",
            "Enter the theta value joint3: 0\n",
            "\n",
            "Enter the d value joint3: 0\n",
            "\n",
            "Enter the a value joint3: 100\n",
            "\n",
            "Enter the alpha value joint3: 0\n",
            "\n",
            "   Theta     d      a  Alpha\n",
            "0    0.0  50.0    0.0   90.0\n",
            "1    0.0   0.0  100.0    0.0\n",
            "2    0.0   0.0  100.0    0.0\n"
          ]
        }
      ]
    },
    {
      "cell_type": "code",
      "source": [
        "T_matrix=[]\n",
        "for i in range(n):\n",
        "  theta_i=np.radians(theta[i])\n",
        "  alpha_i=np.radians(alpha[i])\n",
        "  d_i=d[i]\n",
        "  a_i=a[i]\n",
        "\n",
        "  T=np.array([\n",
        "   [np.cos(theta_i),-np.sin(theta_i)*np.cos(alpha_i),np.sin(theta_i)*np.sin(alpha_i),a_i*np.cos(theta_i)],\n",
        "   [np.sin(theta_i),np.cos(theta_i)*np.cos(alpha_i),-np.cos(theta_i)*np.sin(alpha_i),a_i*np.sin(theta_i)],\n",
        "   [0,np.sin(alpha_i),np.cos(alpha_i),d_i],\n",
        "   [0,0,0,1]\n",
        "             ],dtype=np.float32)\n",
        "  T_matrix.append(T)\n",
        "\n",
        "fin_transform=np.eye(4)\n",
        "for i in T_matrix:\n",
        "  fin_transform=np.dot(fin_transform,i)\n",
        "\n",
        "for i, T in enumerate(T_matrix):\n",
        "    print(f\"Transformation Matrix for Joint {i + 1}:\\n\", np.round(T, 3), \"\\n\")\n",
        "\n",
        "print(f\"Final Transformation Matrix:\\n{np.round(fin_transform, 3)}\")"
      ],
      "metadata": {
        "colab": {
          "base_uri": "https://localhost:8080/"
        },
        "outputId": "9989f9f4-dd7b-47d8-e4d1-14ab87da7833",
        "id": "wS148xY3C9-K"
      },
      "execution_count": 3,
      "outputs": [
        {
          "output_type": "stream",
          "name": "stdout",
          "text": [
            "Transformation Matrix for Joint 1:\n",
            " [[ 1. -0.  0.  0.]\n",
            " [ 0.  0. -1.  0.]\n",
            " [ 0.  1.  0. 50.]\n",
            " [ 0.  0.  0.  1.]] \n",
            "\n",
            "Transformation Matrix for Joint 2:\n",
            " [[  1.  -0.   0. 100.]\n",
            " [  0.   1.  -0.   0.]\n",
            " [  0.   0.   1.   0.]\n",
            " [  0.   0.   0.   1.]] \n",
            "\n",
            "Transformation Matrix for Joint 3:\n",
            " [[  1.  -0.   0. 100.]\n",
            " [  0.   1.  -0.   0.]\n",
            " [  0.   0.   1.   0.]\n",
            " [  0.   0.   0.   1.]] \n",
            "\n",
            "Final Transformation Matrix:\n",
            "[[  1.   0.   0. 200.]\n",
            " [  0.   0.  -1.   0.]\n",
            " [  0.   1.   0.  50.]\n",
            " [  0.   0.   0.   1.]]\n"
          ]
        }
      ]
    }
  ]
}